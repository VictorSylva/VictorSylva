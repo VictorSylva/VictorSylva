{
  "nbformat": 4,
  "nbformat_minor": 0,
  "metadata": {
    "colab": {
      "provenance": [],
      "collapsed_sections": [],
      "include_colab_link": true
    },
    "kernelspec": {
      "name": "python3",
      "display_name": "Python 3"
    },
    "language_info": {
      "name": "python"
    }
  },
  "cells": [
    {
      "cell_type": "markdown",
      "metadata": {
        "id": "view-in-github",
        "colab_type": "text"
      },
      "source": [
        "<a href=\"https://colab.research.google.com/github/VictorSylva/VictorSylva/blob/main/GridSearchCV_and_RandomSearchCV.ipynb\" target=\"_parent\"><img src=\"https://colab.research.google.com/assets/colab-badge.svg\" alt=\"Open In Colab\"/></a>"
      ]
    },
    {
      "cell_type": "markdown",
      "source": [
        "#**GridSearchCV and RandomSearchCV**"
      ],
      "metadata": {
        "id": "cLE08q0e7YIm"
      }
    },
    {
      "cell_type": "markdown",
      "source": [
        "Taking Boston house price dataset to check accuracy of Random Forest Regression model and tuning hyperparameters-number of estimators and max depth of the tree to find the best value. \n",
        "\n",
        "First load boston data and split into train and test sets."
      ],
      "metadata": {
        "id": "lNGWQnJl3oU_"
      }
    },
    {
      "cell_type": "code",
      "execution_count": null,
      "metadata": {
        "id": "RZw_nWbY3FWN"
      },
      "outputs": [],
      "source": [
        "import numpy as np \n",
        "import pandas as pd\n"
      ]
    },
    {
      "cell_type": "code",
      "source": [
        "data_url = \"http://lib.stat.cmu.edu/datasets/boston\"\n",
        "raw_df = pd.read_csv(data_url, sep=\"\\s+\", skiprows=22, header=None)\n",
        "data = np.hstack([raw_df.values[::2, :], raw_df.values[1::2, :2]])\n",
        "target = raw_df.values[1::2, 2]"
      ],
      "metadata": {
        "id": "gn0LpYh54gxs"
      },
      "execution_count": null,
      "outputs": []
    },
    {
      "cell_type": "code",
      "source": [
        "#splitting data into train and test\n",
        "from sklearn.model_selection import train_test_split\n",
        "x_train, x_test, y_train, y_test = train_test_split(data,target,test_size=0.3)"
      ],
      "metadata": {
        "id": "rUQ68fJc4p9_"
      },
      "execution_count": null,
      "outputs": []
    },
    {
      "cell_type": "markdown",
      "source": [
        "Apply Random Forest Regressor model with n_estimators of 5 and max_depth of 3"
      ],
      "metadata": {
        "id": "2hqeAX5q405T"
      }
    },
    {
      "cell_type": "code",
      "source": [
        "from sklearn import ensemble\n",
        "dt=ensemble.RandomForestRegressor(n_estimators=5,max_depth=3)\n",
        "dt.fit(x_train,y_train)\n",
        "print('training score: ', dt.score(x_train,y_train))\n",
        "print('test score: ',dt.score(x_test,y_test))"
      ],
      "metadata": {
        "colab": {
          "base_uri": "https://localhost:8080/"
        },
        "id": "X7Sw14UZ3Z9h",
        "outputId": "f6c255a8-5088-422e-ae03-21c01e1bd0a7"
      },
      "execution_count": null,
      "outputs": [
        {
          "output_type": "stream",
          "name": "stdout",
          "text": [
            "training score:  0.8676726734830894\n",
            "test score:  0.8300173640130096\n"
          ]
        }
      ]
    },
    {
      "cell_type": "markdown",
      "source": [
        "Let's try with cross validation and see:"
      ],
      "metadata": {
        "id": "9lctULak49N2"
      }
    },
    {
      "cell_type": "code",
      "source": [
        "from sklearn.model_selection import cross_val_score\n",
        "scores1 = cross_val_score(ensemble.RandomForestRegressor(n_estimators=5,max_depth=3),x_train,y_train,cv=10)\n",
        "np.average(scores1)"
      ],
      "metadata": {
        "colab": {
          "base_uri": "https://localhost:8080/"
        },
        "id": "ckcPpRtA4Hps",
        "outputId": "a7e63b42-8a3c-475e-b22f-159851998705"
      },
      "execution_count": null,
      "outputs": [
        {
          "output_type": "execute_result",
          "data": {
            "text/plain": [
              "0.760223694586679"
            ]
          },
          "metadata": {},
          "execution_count": 5
        }
      ]
    },
    {
      "cell_type": "markdown",
      "source": [
        "The *Cross Validation* alone is not giving us something good. Let's combine it with *GridSearchCV*"
      ],
      "metadata": {
        "id": "UtCL7YcL6Po_"
      }
    },
    {
      "cell_type": "markdown",
      "source": [
        "For this, a list of dictionaries of the list of hyperparameter values is passed. Then model is evaluated on every combination of each list of values to find the best one.\n",
        "\n"
      ],
      "metadata": {
        "id": "aze-d0lU5w1V"
      }
    },
    {
      "cell_type": "code",
      "source": [
        "ensemble.RandomForestRegressor().get_params()"
      ],
      "metadata": {
        "colab": {
          "base_uri": "https://localhost:8080/"
        },
        "id": "qEYG1b-qDEpA",
        "outputId": "9b9181dd-91bf-4d1e-e5d6-ae2df620a9fe"
      },
      "execution_count": null,
      "outputs": [
        {
          "output_type": "execute_result",
          "data": {
            "text/plain": [
              "{'bootstrap': True,\n",
              " 'ccp_alpha': 0.0,\n",
              " 'criterion': 'squared_error',\n",
              " 'max_depth': None,\n",
              " 'max_features': 'auto',\n",
              " 'max_leaf_nodes': None,\n",
              " 'max_samples': None,\n",
              " 'min_impurity_decrease': 0.0,\n",
              " 'min_samples_leaf': 1,\n",
              " 'min_samples_split': 2,\n",
              " 'min_weight_fraction_leaf': 0.0,\n",
              " 'n_estimators': 100,\n",
              " 'n_jobs': None,\n",
              " 'oob_score': False,\n",
              " 'random_state': None,\n",
              " 'verbose': 0,\n",
              " 'warm_start': False}"
            ]
          },
          "metadata": {},
          "execution_count": 6
        }
      ]
    },
    {
      "cell_type": "code",
      "source": [
        "model=ensemble.RandomForestRegressor()\n",
        "from sklearn.model_selection import GridSearchCV\n",
        "parameters=[{'n_estimators':[20,30,40,60,100], 'max_depth': \n",
        "             [5,10,15,20],'max_features':[2,5,8]}]\n",
        "             \n",
        "grid_search = GridSearchCV(estimator=model,\n",
        "                           param_grid=parameters,\n",
        "                           cv=10,\n",
        "                           n_jobs=-1)\n",
        "                           \n",
        "grid = grid_search.fit(x_train,y_train)\n",
        "grid.best_score_"
      ],
      "metadata": {
        "colab": {
          "base_uri": "https://localhost:8080/"
        },
        "id": "kSzCJ7k84LYg",
        "outputId": "1bf49334-8766-4e49-f3af-6dcff8a8e702"
      },
      "execution_count": 15,
      "outputs": [
        {
          "output_type": "execute_result",
          "data": {
            "text/plain": [
              "0.8562229683697149"
            ]
          },
          "metadata": {},
          "execution_count": 15
        }
      ]
    },
    {
      "cell_type": "code",
      "source": [
        "grid.best_params_"
      ],
      "metadata": {
        "colab": {
          "base_uri": "https://localhost:8080/"
        },
        "id": "ZBE9y15W4Ur5",
        "outputId": "d159a655-edad-432b-e8c5-0a681e95e6f6"
      },
      "execution_count": null,
      "outputs": [
        {
          "output_type": "execute_result",
          "data": {
            "text/plain": [
              "{'max_depth': 10, 'max_features': 8, 'n_estimators': 20}"
            ]
          },
          "metadata": {},
          "execution_count": 8
        }
      ]
    },
    {
      "cell_type": "code",
      "source": [],
      "metadata": {
        "id": "zeL6-mDq6hcA"
      },
      "execution_count": null,
      "outputs": []
    },
    {
      "cell_type": "code",
      "source": [
        "#trying the best hyperparameters suggested by GridSearchCV\n",
        "#{'max_depth': 10, 'max_features': 5, 'n_estimators': 100}\n",
        "\n",
        "from sklearn import ensemble\n",
        "dt_1=ensemble.RandomForestRegressor(n_estimators=100, max_depth=10, max_features = 5)\n",
        "dt_1.fit(x_train,y_train)\n",
        "print('training score: ', dt_1.score(x_train,y_train))\n",
        "print('test score: ',dt_1.score(x_test,y_test))"
      ],
      "metadata": {
        "colab": {
          "base_uri": "https://localhost:8080/"
        },
        "id": "O6PdXl9VEnGh",
        "outputId": "525258a0-372e-4bdc-8738-dbeebc2d1429"
      },
      "execution_count": null,
      "outputs": [
        {
          "output_type": "stream",
          "name": "stdout",
          "text": [
            "training score:  0.979257582511003\n",
            "test score:  0.9016876387931118\n"
          ]
        }
      ]
    },
    {
      "cell_type": "markdown",
      "source": [
        "#Random Search CV"
      ],
      "metadata": {
        "id": "55DodKDT69fP"
      }
    },
    {
      "cell_type": "markdown",
      "source": [
        "In Random search CV, the best combination can not be identified because all the combinations are not tested. But the advantage is we can test a broad range of values for hyperparameters within the same computation time as grid search CV.\n",
        "\n",
        "Below is the implementation of Random search for the above example of Boston Housing prices dataset."
      ],
      "metadata": {
        "id": "a3L_6y317Ftj"
      }
    },
    {
      "cell_type": "code",
      "source": [
        "from sklearn.model_selection import RandomizedSearchCV\n",
        "model=ensemble.RandomForestRegressor()\n",
        "param_grid=[{'n_estimators':[20,30,40,60,100], 'max_depth':[5,10,15,20] \n",
        "          },{'n_estimators':[20,30,40,60,100], 'max_depth':[5,10,15,20]\n",
        "             ,'max_features':[2,5,8]}]\n",
        "\n",
        "rnd_search = RandomizedSearchCV(model, param_grid, cv=10, \n",
        "                                          return_train_score=True)\n",
        "rnd_search.fit(x_train,y_train)\n",
        "rnd_search.best_score_"
      ],
      "metadata": {
        "colab": {
          "base_uri": "https://localhost:8080/"
        },
        "id": "yaEIZJc96-gX",
        "outputId": "1de6eea2-321d-431b-93e6-2a6c41061a1a"
      },
      "execution_count": 16,
      "outputs": [
        {
          "output_type": "execute_result",
          "data": {
            "text/plain": [
              "0.8527961988409496"
            ]
          },
          "metadata": {},
          "execution_count": 16
        }
      ]
    },
    {
      "cell_type": "code",
      "source": [
        "rnd_search.best_params_"
      ],
      "metadata": {
        "colab": {
          "base_uri": "https://localhost:8080/"
        },
        "id": "NgHa2fAH7IMg",
        "outputId": "0947d382-a8f5-45f9-de08-e7e16d230e99"
      },
      "execution_count": null,
      "outputs": [
        {
          "output_type": "execute_result",
          "data": {
            "text/plain": [
              "{'n_estimators': 100, 'max_features': 5, 'max_depth': 20}"
            ]
          },
          "metadata": {},
          "execution_count": 11
        }
      ]
    },
    {
      "cell_type": "code",
      "source": [
        "#trying the best hyperparameters suggested by RandomizedSearchCV\n",
        "\n",
        "#{'max_depth': 10, 'max_features': 8, 'n_estimators': 20}\n",
        "\n",
        "\n",
        "\n",
        "from sklearn import ensemble\n",
        "dt=ensemble.RandomForestRegressor(n_estimators=20, max_depth=10, max_features = 8)\n",
        "dt.fit(x_train,y_train)\n",
        "print('training score: ', dt.score(x_train,y_train))\n",
        "print('test score: ',dt.score(x_test,y_test))"
      ],
      "metadata": {
        "colab": {
          "base_uri": "https://localhost:8080/"
        },
        "id": "0MSM0ZV_FTRe",
        "outputId": "6780b1ba-d006-4db6-b184-675fea6a32c7"
      },
      "execution_count": null,
      "outputs": [
        {
          "output_type": "stream",
          "name": "stdout",
          "text": [
            "training score:  0.9644230305537048\n",
            "test score:  0.881733229588773\n"
          ]
        }
      ]
    },
    {
      "cell_type": "code",
      "source": [],
      "metadata": {
        "id": "BL7tW1TR7PUE"
      },
      "execution_count": null,
      "outputs": []
    },
    {
      "cell_type": "markdown",
      "source": [
        "#**Save and Load Machine Learning Models**"
      ],
      "metadata": {
        "id": "YycHz0obRHOE"
      }
    },
    {
      "cell_type": "markdown",
      "source": [
        "In Machine Learning, when we finally arrive at the model that we are satisfied with, we can save and reuse it later.\n",
        "\n",
        "In this session, we will see the two(2) most common ways of saving our model and reloading it for future predictions:\n",
        "\n",
        "1. Finalize Your Model with pickle\n",
        "2. Finalize Your Model with Joblib"
      ],
      "metadata": {
        "id": "lO8egex2RRcK"
      }
    },
    {
      "cell_type": "markdown",
      "source": [
        "#Finalize Your Model with pickle"
      ],
      "metadata": {
        "id": "vMKaRXXKR-_s"
      }
    },
    {
      "cell_type": "markdown",
      "source": [
        "Pickle is the standard way of serializing objects in Python. You can use the pickle1 operation to serialize your machine learning algorithms and save the serialized format to a file. Later you can load this file to deserialize your model and use it to make new predictions. The example below demonstrates how you can save your model to file and load it to make predictions on the unseen test set. We will save the best model from our previous tutorial(see code above)."
      ],
      "metadata": {
        "id": "bLR9CX_-SKYc"
      }
    },
    {
      "cell_type": "code",
      "source": [
        "import pickle\n",
        "\n",
        "\n",
        "pickle.dump(dt_1, open('model.pkl', 'wb'))\n",
        "\n",
        "\n",
        "\n",
        "# some time later...\n",
        "# load the model from disk\n",
        "pickled_model = pickle.load(open('model.pkl', 'rb'))"
      ],
      "metadata": {
        "id": "aotIzOCcRI-f"
      },
      "execution_count": 17,
      "outputs": []
    },
    {
      "cell_type": "markdown",
      "source": [
        "Running the example saves the model to finalized model.pkl in your local working directory. Load the saved model and evaluating it provides an estimate of accuracy of the model on unseen data."
      ],
      "metadata": {
        "id": "cM0rCY2SUggw"
      }
    },
    {
      "cell_type": "code",
      "source": [
        "pickled_model.predict(x_test) "
      ],
      "metadata": {
        "colab": {
          "base_uri": "https://localhost:8080/"
        },
        "id": "bT3TMPqaWGhx",
        "outputId": "62d68c32-bd70-4a78-83aa-2f8e7586bc84"
      },
      "execution_count": 18,
      "outputs": [
        {
          "output_type": "execute_result",
          "data": {
            "text/plain": [
              "array([13.18381377, 16.75036941, 26.16508854, 15.09399545, 19.7676893 ,\n",
              "       13.70581901, 17.44155716, 19.63435763, 13.82730952, 13.89921688,\n",
              "       14.30815742, 20.74550679, 19.44046885, 10.73719356, 23.52185118,\n",
              "       29.93439654, 24.51996913, 30.07625864, 14.79489984, 20.80625405,\n",
              "       20.87096238, 32.2564513 , 22.49688514, 23.15173559, 30.68041866,\n",
              "       20.89820162, 13.83898047, 19.5883208 , 45.31      , 33.85058523,\n",
              "       44.107     , 18.86286503, 23.34444551, 26.66165147, 20.58856005,\n",
              "       24.16556849, 30.09678539,  7.29554679, 23.0336282 , 14.99766725,\n",
              "       25.95037283, 40.057     , 27.32989216, 21.13984733, 20.16277227,\n",
              "       31.51802794, 19.4120234 , 23.70092479, 22.00697911, 33.60031319,\n",
              "       18.58805168, 20.40292212, 18.80858399, 33.19087323, 21.01011696,\n",
              "       23.4038147 , 26.11975444, 34.8694125 , 31.74497273, 21.8425507 ,\n",
              "       18.43068026, 16.09041883, 26.61116687, 20.92857005, 20.95343321,\n",
              "       20.88336484, 19.2375718 , 15.66238684,  7.73877284, 46.62      ,\n",
              "       33.15480299, 23.89430523, 15.25696722, 20.16227939, 36.16926916,\n",
              "       20.71595463, 30.24207839, 20.44282161, 13.59701961, 21.2020682 ,\n",
              "       32.13492152,  9.77756584, 36.09112976, 18.25791984, 22.07913952,\n",
              "       25.82456943, 20.07376092,  8.38861306, 21.29705665, 32.64808512,\n",
              "       21.40424352, 41.41813333, 28.69469202, 42.19238462, 30.11394019,\n",
              "       34.3665    ,  6.89209228, 32.72995767, 21.09377857, 19.29203845,\n",
              "       26.51200441, 19.87102694, 45.544     , 19.10068628,  8.80892937,\n",
              "       11.45556587, 12.31499384, 20.89063642, 41.80280051, 35.91483333,\n",
              "       21.47398657, 27.11841862, 14.92944475, 21.33635056, 11.43129524,\n",
              "       24.59982823, 21.59273563, 24.18244088,  7.55631346, 32.49857344,\n",
              "       16.67156007, 20.78341341, 20.23452085, 28.01191154, 19.44156742,\n",
              "       42.036     , 16.18257099, 12.35035238, 22.03785182, 21.39975793,\n",
              "       18.61696724, 31.51913384, 21.16115629, 16.51032495, 14.75850911,\n",
              "       21.8265705 , 20.12299129, 11.33547051, 19.03567074, 14.50215243,\n",
              "       13.94953546, 15.68206554, 31.81768806, 22.89302479, 24.76176114,\n",
              "       22.02959768, 24.61144032, 29.42402834, 22.78523625, 23.04791954,\n",
              "       32.05324217, 21.25191064])"
            ]
          },
          "metadata": {},
          "execution_count": 18
        }
      ]
    },
    {
      "cell_type": "markdown",
      "source": [
        "#Finalize Your Model with Joblib"
      ],
      "metadata": {
        "id": "Ya_ACWa-UjH0"
      }
    },
    {
      "cell_type": "code",
      "source": [
        "!pip install joblib"
      ],
      "metadata": {
        "colab": {
          "base_uri": "https://localhost:8080/"
        },
        "id": "pgRO5vEJWh6A",
        "outputId": "6a5992a9-d0bb-42c0-9344-9383904e7e97"
      },
      "execution_count": 19,
      "outputs": [
        {
          "output_type": "stream",
          "name": "stdout",
          "text": [
            "Looking in indexes: https://pypi.org/simple, https://us-python.pkg.dev/colab-wheels/public/simple/\n",
            "Requirement already satisfied: joblib in /usr/local/lib/python3.7/dist-packages (1.2.0)\n"
          ]
        }
      ]
    },
    {
      "cell_type": "code",
      "source": [
        "import joblib\n",
        "\n",
        "\n",
        "joblib.dump(dt_1 , 'joblib_model')"
      ],
      "metadata": {
        "colab": {
          "base_uri": "https://localhost:8080/"
        },
        "id": "0vRnfZUcS7ba",
        "outputId": "9b6b4689-08af-440f-e36a-529359bdab62"
      },
      "execution_count": 20,
      "outputs": [
        {
          "output_type": "execute_result",
          "data": {
            "text/plain": [
              "['joblib_model']"
            ]
          },
          "metadata": {},
          "execution_count": 20
        }
      ]
    },
    {
      "cell_type": "code",
      "source": [
        "jobLib = joblib.load('joblib_model')\n",
        "\n",
        "\n",
        "\n",
        "jobLib.predict(x_test)\n"
      ],
      "metadata": {
        "colab": {
          "base_uri": "https://localhost:8080/"
        },
        "id": "6Vl6SkI0Wcy4",
        "outputId": "1bbb15b7-1f8d-4cce-f99f-67066632ec88"
      },
      "execution_count": 21,
      "outputs": [
        {
          "output_type": "execute_result",
          "data": {
            "text/plain": [
              "array([13.18381377, 16.75036941, 26.16508854, 15.09399545, 19.7676893 ,\n",
              "       13.70581901, 17.44155716, 19.63435763, 13.82730952, 13.89921688,\n",
              "       14.30815742, 20.74550679, 19.44046885, 10.73719356, 23.52185118,\n",
              "       29.93439654, 24.51996913, 30.07625864, 14.79489984, 20.80625405,\n",
              "       20.87096238, 32.2564513 , 22.49688514, 23.15173559, 30.68041866,\n",
              "       20.89820162, 13.83898047, 19.5883208 , 45.31      , 33.85058523,\n",
              "       44.107     , 18.86286503, 23.34444551, 26.66165147, 20.58856005,\n",
              "       24.16556849, 30.09678539,  7.29554679, 23.0336282 , 14.99766725,\n",
              "       25.95037283, 40.057     , 27.32989216, 21.13984733, 20.16277227,\n",
              "       31.51802794, 19.4120234 , 23.70092479, 22.00697911, 33.60031319,\n",
              "       18.58805168, 20.40292212, 18.80858399, 33.19087323, 21.01011696,\n",
              "       23.4038147 , 26.11975444, 34.8694125 , 31.74497273, 21.8425507 ,\n",
              "       18.43068026, 16.09041883, 26.61116687, 20.92857005, 20.95343321,\n",
              "       20.88336484, 19.2375718 , 15.66238684,  7.73877284, 46.62      ,\n",
              "       33.15480299, 23.89430523, 15.25696722, 20.16227939, 36.16926916,\n",
              "       20.71595463, 30.24207839, 20.44282161, 13.59701961, 21.2020682 ,\n",
              "       32.13492152,  9.77756584, 36.09112976, 18.25791984, 22.07913952,\n",
              "       25.82456943, 20.07376092,  8.38861306, 21.29705665, 32.64808512,\n",
              "       21.40424352, 41.41813333, 28.69469202, 42.19238462, 30.11394019,\n",
              "       34.3665    ,  6.89209228, 32.72995767, 21.09377857, 19.29203845,\n",
              "       26.51200441, 19.87102694, 45.544     , 19.10068628,  8.80892937,\n",
              "       11.45556587, 12.31499384, 20.89063642, 41.80280051, 35.91483333,\n",
              "       21.47398657, 27.11841862, 14.92944475, 21.33635056, 11.43129524,\n",
              "       24.59982823, 21.59273563, 24.18244088,  7.55631346, 32.49857344,\n",
              "       16.67156007, 20.78341341, 20.23452085, 28.01191154, 19.44156742,\n",
              "       42.036     , 16.18257099, 12.35035238, 22.03785182, 21.39975793,\n",
              "       18.61696724, 31.51913384, 21.16115629, 16.51032495, 14.75850911,\n",
              "       21.8265705 , 20.12299129, 11.33547051, 19.03567074, 14.50215243,\n",
              "       13.94953546, 15.68206554, 31.81768806, 22.89302479, 24.76176114,\n",
              "       22.02959768, 24.61144032, 29.42402834, 22.78523625, 23.04791954,\n",
              "       32.05324217, 21.25191064])"
            ]
          },
          "metadata": {},
          "execution_count": 21
        }
      ]
    },
    {
      "cell_type": "code",
      "source": [],
      "metadata": {
        "id": "xxRgMTdBXI8G"
      },
      "execution_count": 21,
      "outputs": []
    }
  ]
}